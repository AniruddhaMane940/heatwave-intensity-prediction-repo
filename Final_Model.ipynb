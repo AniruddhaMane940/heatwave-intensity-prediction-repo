{
 "cells": [
  {
   "cell_type": "code",
   "execution_count": 15,
   "id": "c7229236",
   "metadata": {},
   "outputs": [],
   "source": [
    "import numpy as np\n",
    "import pandas as pd\n",
    "import matplotlib.pyplot as plt\n",
    "import seaborn as sns\n",
    "from sklearn.ensemble import RandomForestRegressor\n",
    "import pickle as pkl"
   ]
  },
  {
   "cell_type": "code",
   "execution_count": 2,
   "id": "53cc9033",
   "metadata": {},
   "outputs": [],
   "source": [
    "df=pd.read_csv(\"com_data.csv\")"
   ]
  },
  {
   "cell_type": "code",
   "execution_count": 3,
   "id": "b2c13bf4",
   "metadata": {},
   "outputs": [
    {
     "data": {
      "text/html": [
       "<div>\n",
       "<style scoped>\n",
       "    .dataframe tbody tr th:only-of-type {\n",
       "        vertical-align: middle;\n",
       "    }\n",
       "\n",
       "    .dataframe tbody tr th {\n",
       "        vertical-align: top;\n",
       "    }\n",
       "\n",
       "    .dataframe thead th {\n",
       "        text-align: right;\n",
       "    }\n",
       "</style>\n",
       "<table border=\"1\" class=\"dataframe\">\n",
       "  <thead>\n",
       "    <tr style=\"text-align: right;\">\n",
       "      <th></th>\n",
       "      <th>District</th>\n",
       "      <th>Time</th>\n",
       "      <th>Temperature in deg</th>\n",
       "      <th>Temperature in fer</th>\n",
       "      <th>Dew Point in Deg</th>\n",
       "      <th>Dew Point in fer</th>\n",
       "      <th>Humidity</th>\n",
       "      <th>Wind Speed</th>\n",
       "      <th>Pressure</th>\n",
       "      <th>Precipitation</th>\n",
       "      <th>R</th>\n",
       "      <th>Relative Humidity</th>\n",
       "      <th>Heat Index</th>\n",
       "    </tr>\n",
       "  </thead>\n",
       "  <tbody>\n",
       "    <tr>\n",
       "      <th>0</th>\n",
       "      <td>Adilabad</td>\n",
       "      <td>4/1/2016</td>\n",
       "      <td>38</td>\n",
       "      <td>100.4</td>\n",
       "      <td>-2</td>\n",
       "      <td>28.4</td>\n",
       "      <td>11</td>\n",
       "      <td>8 | 4.97</td>\n",
       "      <td>29.77 | 1008</td>\n",
       "      <td>0.0 | 0.0</td>\n",
       "      <td>-0.146916</td>\n",
       "      <td>7.946419</td>\n",
       "      <td>94.806511</td>\n",
       "    </tr>\n",
       "    <tr>\n",
       "      <th>1</th>\n",
       "      <td>Adilabad</td>\n",
       "      <td>4/2/2016</td>\n",
       "      <td>40</td>\n",
       "      <td>104.0</td>\n",
       "      <td>3</td>\n",
       "      <td>37.4</td>\n",
       "      <td>14</td>\n",
       "      <td>6 | 3.73</td>\n",
       "      <td>29.77 | 1008</td>\n",
       "      <td>0.0 | 0.0</td>\n",
       "      <td>0.215785</td>\n",
       "      <td>10.257329</td>\n",
       "      <td>98.663572</td>\n",
       "    </tr>\n",
       "    <tr>\n",
       "      <th>2</th>\n",
       "      <td>Adilabad</td>\n",
       "      <td>4/3/2016</td>\n",
       "      <td>41</td>\n",
       "      <td>105.8</td>\n",
       "      <td>9</td>\n",
       "      <td>48.2</td>\n",
       "      <td>21</td>\n",
       "      <td>8 | 4.97</td>\n",
       "      <td>29.8 | 1009</td>\n",
       "      <td>0.0 | 0.0</td>\n",
       "      <td>0.631573</td>\n",
       "      <td>14.741169</td>\n",
       "      <td>102.464666</td>\n",
       "    </tr>\n",
       "    <tr>\n",
       "      <th>3</th>\n",
       "      <td>Adilabad</td>\n",
       "      <td>4/4/2016</td>\n",
       "      <td>41</td>\n",
       "      <td>105.8</td>\n",
       "      <td>9</td>\n",
       "      <td>48.2</td>\n",
       "      <td>21</td>\n",
       "      <td>7 | 4.35</td>\n",
       "      <td>29.74 | 1007</td>\n",
       "      <td>0.0 | 0.0</td>\n",
       "      <td>0.631573</td>\n",
       "      <td>14.741169</td>\n",
       "      <td>102.464666</td>\n",
       "    </tr>\n",
       "    <tr>\n",
       "      <th>4</th>\n",
       "      <td>Adilabad</td>\n",
       "      <td>4/5/2016</td>\n",
       "      <td>37</td>\n",
       "      <td>98.6</td>\n",
       "      <td>11</td>\n",
       "      <td>51.8</td>\n",
       "      <td>26</td>\n",
       "      <td>8 | 4.97</td>\n",
       "      <td>29.77 | 1008</td>\n",
       "      <td>3.7 | 0.15</td>\n",
       "      <td>0.765699</td>\n",
       "      <td>20.897719</td>\n",
       "      <td>96.010559</td>\n",
       "    </tr>\n",
       "    <tr>\n",
       "      <th>...</th>\n",
       "      <td>...</td>\n",
       "      <td>...</td>\n",
       "      <td>...</td>\n",
       "      <td>...</td>\n",
       "      <td>...</td>\n",
       "      <td>...</td>\n",
       "      <td>...</td>\n",
       "      <td>...</td>\n",
       "      <td>...</td>\n",
       "      <td>...</td>\n",
       "      <td>...</td>\n",
       "      <td>...</td>\n",
       "      <td>...</td>\n",
       "    </tr>\n",
       "    <tr>\n",
       "      <th>9130</th>\n",
       "      <td>Warangal</td>\n",
       "      <td>9/26/2020</td>\n",
       "      <td>25</td>\n",
       "      <td>77.0</td>\n",
       "      <td>23</td>\n",
       "      <td>73.4</td>\n",
       "      <td>91</td>\n",
       "      <td>12 | 7.46</td>\n",
       "      <td>29.68 | 1005</td>\n",
       "      <td>45.9 | 1.81</td>\n",
       "      <td>1.527143</td>\n",
       "      <td>88.680636</td>\n",
       "      <td>78.243877</td>\n",
       "    </tr>\n",
       "    <tr>\n",
       "      <th>9131</th>\n",
       "      <td>Warangal</td>\n",
       "      <td>9/27/2020</td>\n",
       "      <td>26</td>\n",
       "      <td>78.8</td>\n",
       "      <td>22</td>\n",
       "      <td>71.6</td>\n",
       "      <td>84</td>\n",
       "      <td>18 | 11.18</td>\n",
       "      <td>29.74 | 1007</td>\n",
       "      <td>7.2 | 0.28</td>\n",
       "      <td>1.466384</td>\n",
       "      <td>78.641721</td>\n",
       "      <td>81.705717</td>\n",
       "    </tr>\n",
       "    <tr>\n",
       "      <th>9132</th>\n",
       "      <td>Warangal</td>\n",
       "      <td>9/28/2020</td>\n",
       "      <td>27</td>\n",
       "      <td>80.6</td>\n",
       "      <td>22</td>\n",
       "      <td>71.6</td>\n",
       "      <td>81</td>\n",
       "      <td>8 | 4.97</td>\n",
       "      <td>29.71 | 1006</td>\n",
       "      <td>15.5 | 0.61</td>\n",
       "      <td>1.466384</td>\n",
       "      <td>74.141290</td>\n",
       "      <td>84.575368</td>\n",
       "    </tr>\n",
       "    <tr>\n",
       "      <th>9133</th>\n",
       "      <td>Warangal</td>\n",
       "      <td>9/29/2020</td>\n",
       "      <td>28</td>\n",
       "      <td>82.4</td>\n",
       "      <td>23</td>\n",
       "      <td>73.4</td>\n",
       "      <td>81</td>\n",
       "      <td>10 | 6.21</td>\n",
       "      <td>29.71 | 1006</td>\n",
       "      <td>3.4 | 0.13</td>\n",
       "      <td>1.527143</td>\n",
       "      <td>74.310124</td>\n",
       "      <td>88.263408</td>\n",
       "    </tr>\n",
       "    <tr>\n",
       "      <th>9134</th>\n",
       "      <td>Warangal</td>\n",
       "      <td>9/30/2020</td>\n",
       "      <td>27</td>\n",
       "      <td>80.6</td>\n",
       "      <td>23</td>\n",
       "      <td>73.4</td>\n",
       "      <td>84</td>\n",
       "      <td>10 | 6.21</td>\n",
       "      <td>29.68 | 1005</td>\n",
       "      <td>23.6 | 0.93</td>\n",
       "      <td>1.527143</td>\n",
       "      <td>78.785768</td>\n",
       "      <td>85.328433</td>\n",
       "    </tr>\n",
       "  </tbody>\n",
       "</table>\n",
       "<p>9135 rows × 13 columns</p>\n",
       "</div>"
      ],
      "text/plain": [
       "      District       Time  Temperature in deg  Temperature in fer  \\\n",
       "0     Adilabad   4/1/2016                  38               100.4   \n",
       "1     Adilabad   4/2/2016                  40               104.0   \n",
       "2     Adilabad   4/3/2016                  41               105.8   \n",
       "3     Adilabad   4/4/2016                  41               105.8   \n",
       "4     Adilabad   4/5/2016                  37                98.6   \n",
       "...        ...        ...                 ...                 ...   \n",
       "9130  Warangal  9/26/2020                  25                77.0   \n",
       "9131  Warangal  9/27/2020                  26                78.8   \n",
       "9132  Warangal  9/28/2020                  27                80.6   \n",
       "9133  Warangal  9/29/2020                  28                82.4   \n",
       "9134  Warangal  9/30/2020                  27                80.6   \n",
       "\n",
       "      Dew Point in Deg  Dew Point in fer  Humidity  Wind Speed      Pressure  \\\n",
       "0                   -2              28.4        11    8 | 4.97  29.77 | 1008   \n",
       "1                    3              37.4        14    6 | 3.73  29.77 | 1008   \n",
       "2                    9              48.2        21    8 | 4.97   29.8 | 1009   \n",
       "3                    9              48.2        21    7 | 4.35  29.74 | 1007   \n",
       "4                   11              51.8        26    8 | 4.97  29.77 | 1008   \n",
       "...                ...               ...       ...         ...           ...   \n",
       "9130                23              73.4        91   12 | 7.46  29.68 | 1005   \n",
       "9131                22              71.6        84  18 | 11.18  29.74 | 1007   \n",
       "9132                22              71.6        81    8 | 4.97  29.71 | 1006   \n",
       "9133                23              73.4        81   10 | 6.21  29.71 | 1006   \n",
       "9134                23              73.4        84   10 | 6.21  29.68 | 1005   \n",
       "\n",
       "     Precipitation         R  Relative Humidity  Heat Index  \n",
       "0        0.0 | 0.0 -0.146916           7.946419   94.806511  \n",
       "1        0.0 | 0.0  0.215785          10.257329   98.663572  \n",
       "2        0.0 | 0.0  0.631573          14.741169  102.464666  \n",
       "3        0.0 | 0.0  0.631573          14.741169  102.464666  \n",
       "4       3.7 | 0.15  0.765699          20.897719   96.010559  \n",
       "...            ...       ...                ...         ...  \n",
       "9130   45.9 | 1.81  1.527143          88.680636   78.243877  \n",
       "9131    7.2 | 0.28  1.466384          78.641721   81.705717  \n",
       "9132   15.5 | 0.61  1.466384          74.141290   84.575368  \n",
       "9133    3.4 | 0.13  1.527143          74.310124   88.263408  \n",
       "9134   23.6 | 0.93  1.527143          78.785768   85.328433  \n",
       "\n",
       "[9135 rows x 13 columns]"
      ]
     },
     "execution_count": 3,
     "metadata": {},
     "output_type": "execute_result"
    }
   ],
   "source": [
    "df"
   ]
  },
  {
   "cell_type": "code",
   "execution_count": 4,
   "id": "c342d340",
   "metadata": {},
   "outputs": [],
   "source": [
    "df['Time']=pd.to_datetime(df['Time'])"
   ]
  },
  {
   "cell_type": "code",
   "execution_count": 5,
   "id": "2fd3a66a",
   "metadata": {},
   "outputs": [],
   "source": [
    "df['month'] = pd.DatetimeIndex(df['Time']).month"
   ]
  },
  {
   "cell_type": "code",
   "execution_count": 6,
   "id": "cfb5d224",
   "metadata": {},
   "outputs": [],
   "source": [
    "data=df.loc[:,['District','Temperature in deg','Dew Point in Deg','Heat Index','month']]"
   ]
  },
  {
   "cell_type": "code",
   "execution_count": 7,
   "id": "5422abf5",
   "metadata": {},
   "outputs": [
    {
     "data": {
      "text/html": [
       "<div>\n",
       "<style scoped>\n",
       "    .dataframe tbody tr th:only-of-type {\n",
       "        vertical-align: middle;\n",
       "    }\n",
       "\n",
       "    .dataframe tbody tr th {\n",
       "        vertical-align: top;\n",
       "    }\n",
       "\n",
       "    .dataframe thead th {\n",
       "        text-align: right;\n",
       "    }\n",
       "</style>\n",
       "<table border=\"1\" class=\"dataframe\">\n",
       "  <thead>\n",
       "    <tr style=\"text-align: right;\">\n",
       "      <th></th>\n",
       "      <th>District</th>\n",
       "      <th>Temperature in deg</th>\n",
       "      <th>Dew Point in Deg</th>\n",
       "      <th>Heat Index</th>\n",
       "      <th>month</th>\n",
       "    </tr>\n",
       "  </thead>\n",
       "  <tbody>\n",
       "    <tr>\n",
       "      <th>0</th>\n",
       "      <td>Adilabad</td>\n",
       "      <td>38</td>\n",
       "      <td>-2</td>\n",
       "      <td>94.806511</td>\n",
       "      <td>4</td>\n",
       "    </tr>\n",
       "    <tr>\n",
       "      <th>1</th>\n",
       "      <td>Adilabad</td>\n",
       "      <td>40</td>\n",
       "      <td>3</td>\n",
       "      <td>98.663572</td>\n",
       "      <td>4</td>\n",
       "    </tr>\n",
       "    <tr>\n",
       "      <th>2</th>\n",
       "      <td>Adilabad</td>\n",
       "      <td>41</td>\n",
       "      <td>9</td>\n",
       "      <td>102.464666</td>\n",
       "      <td>4</td>\n",
       "    </tr>\n",
       "    <tr>\n",
       "      <th>3</th>\n",
       "      <td>Adilabad</td>\n",
       "      <td>41</td>\n",
       "      <td>9</td>\n",
       "      <td>102.464666</td>\n",
       "      <td>4</td>\n",
       "    </tr>\n",
       "    <tr>\n",
       "      <th>4</th>\n",
       "      <td>Adilabad</td>\n",
       "      <td>37</td>\n",
       "      <td>11</td>\n",
       "      <td>96.010559</td>\n",
       "      <td>4</td>\n",
       "    </tr>\n",
       "    <tr>\n",
       "      <th>...</th>\n",
       "      <td>...</td>\n",
       "      <td>...</td>\n",
       "      <td>...</td>\n",
       "      <td>...</td>\n",
       "      <td>...</td>\n",
       "    </tr>\n",
       "    <tr>\n",
       "      <th>9130</th>\n",
       "      <td>Warangal</td>\n",
       "      <td>25</td>\n",
       "      <td>23</td>\n",
       "      <td>78.243877</td>\n",
       "      <td>9</td>\n",
       "    </tr>\n",
       "    <tr>\n",
       "      <th>9131</th>\n",
       "      <td>Warangal</td>\n",
       "      <td>26</td>\n",
       "      <td>22</td>\n",
       "      <td>81.705717</td>\n",
       "      <td>9</td>\n",
       "    </tr>\n",
       "    <tr>\n",
       "      <th>9132</th>\n",
       "      <td>Warangal</td>\n",
       "      <td>27</td>\n",
       "      <td>22</td>\n",
       "      <td>84.575368</td>\n",
       "      <td>9</td>\n",
       "    </tr>\n",
       "    <tr>\n",
       "      <th>9133</th>\n",
       "      <td>Warangal</td>\n",
       "      <td>28</td>\n",
       "      <td>23</td>\n",
       "      <td>88.263408</td>\n",
       "      <td>9</td>\n",
       "    </tr>\n",
       "    <tr>\n",
       "      <th>9134</th>\n",
       "      <td>Warangal</td>\n",
       "      <td>27</td>\n",
       "      <td>23</td>\n",
       "      <td>85.328433</td>\n",
       "      <td>9</td>\n",
       "    </tr>\n",
       "  </tbody>\n",
       "</table>\n",
       "<p>9135 rows × 5 columns</p>\n",
       "</div>"
      ],
      "text/plain": [
       "      District  Temperature in deg  Dew Point in Deg  Heat Index  month\n",
       "0     Adilabad                  38                -2   94.806511      4\n",
       "1     Adilabad                  40                 3   98.663572      4\n",
       "2     Adilabad                  41                 9  102.464666      4\n",
       "3     Adilabad                  41                 9  102.464666      4\n",
       "4     Adilabad                  37                11   96.010559      4\n",
       "...        ...                 ...               ...         ...    ...\n",
       "9130  Warangal                  25                23   78.243877      9\n",
       "9131  Warangal                  26                22   81.705717      9\n",
       "9132  Warangal                  27                22   84.575368      9\n",
       "9133  Warangal                  28                23   88.263408      9\n",
       "9134  Warangal                  27                23   85.328433      9\n",
       "\n",
       "[9135 rows x 5 columns]"
      ]
     },
     "execution_count": 7,
     "metadata": {},
     "output_type": "execute_result"
    }
   ],
   "source": [
    "data"
   ]
  },
  {
   "cell_type": "code",
   "execution_count": 8,
   "id": "1d087ec4",
   "metadata": {},
   "outputs": [],
   "source": [
    "from sklearn.preprocessing import LabelEncoder\n",
    "LE=LabelEncoder()"
   ]
  },
  {
   "cell_type": "code",
   "execution_count": 9,
   "id": "77c5f425",
   "metadata": {},
   "outputs": [],
   "source": [
    "data['District']=LE.fit_transform(data['District'])"
   ]
  },
  {
   "cell_type": "code",
   "execution_count": 10,
   "id": "2becefa0",
   "metadata": {},
   "outputs": [
    {
     "data": {
      "text/html": [
       "<div>\n",
       "<style scoped>\n",
       "    .dataframe tbody tr th:only-of-type {\n",
       "        vertical-align: middle;\n",
       "    }\n",
       "\n",
       "    .dataframe tbody tr th {\n",
       "        vertical-align: top;\n",
       "    }\n",
       "\n",
       "    .dataframe thead th {\n",
       "        text-align: right;\n",
       "    }\n",
       "</style>\n",
       "<table border=\"1\" class=\"dataframe\">\n",
       "  <thead>\n",
       "    <tr style=\"text-align: right;\">\n",
       "      <th></th>\n",
       "      <th>District</th>\n",
       "      <th>Temperature in deg</th>\n",
       "      <th>Dew Point in Deg</th>\n",
       "      <th>Heat Index</th>\n",
       "      <th>month</th>\n",
       "    </tr>\n",
       "  </thead>\n",
       "  <tbody>\n",
       "    <tr>\n",
       "      <th>0</th>\n",
       "      <td>0</td>\n",
       "      <td>38</td>\n",
       "      <td>-2</td>\n",
       "      <td>94.806511</td>\n",
       "      <td>4</td>\n",
       "    </tr>\n",
       "    <tr>\n",
       "      <th>1</th>\n",
       "      <td>0</td>\n",
       "      <td>40</td>\n",
       "      <td>3</td>\n",
       "      <td>98.663572</td>\n",
       "      <td>4</td>\n",
       "    </tr>\n",
       "    <tr>\n",
       "      <th>2</th>\n",
       "      <td>0</td>\n",
       "      <td>41</td>\n",
       "      <td>9</td>\n",
       "      <td>102.464666</td>\n",
       "      <td>4</td>\n",
       "    </tr>\n",
       "    <tr>\n",
       "      <th>3</th>\n",
       "      <td>0</td>\n",
       "      <td>41</td>\n",
       "      <td>9</td>\n",
       "      <td>102.464666</td>\n",
       "      <td>4</td>\n",
       "    </tr>\n",
       "    <tr>\n",
       "      <th>4</th>\n",
       "      <td>0</td>\n",
       "      <td>37</td>\n",
       "      <td>11</td>\n",
       "      <td>96.010559</td>\n",
       "      <td>4</td>\n",
       "    </tr>\n",
       "    <tr>\n",
       "      <th>...</th>\n",
       "      <td>...</td>\n",
       "      <td>...</td>\n",
       "      <td>...</td>\n",
       "      <td>...</td>\n",
       "      <td>...</td>\n",
       "    </tr>\n",
       "    <tr>\n",
       "      <th>9130</th>\n",
       "      <td>3</td>\n",
       "      <td>25</td>\n",
       "      <td>23</td>\n",
       "      <td>78.243877</td>\n",
       "      <td>9</td>\n",
       "    </tr>\n",
       "    <tr>\n",
       "      <th>9131</th>\n",
       "      <td>3</td>\n",
       "      <td>26</td>\n",
       "      <td>22</td>\n",
       "      <td>81.705717</td>\n",
       "      <td>9</td>\n",
       "    </tr>\n",
       "    <tr>\n",
       "      <th>9132</th>\n",
       "      <td>3</td>\n",
       "      <td>27</td>\n",
       "      <td>22</td>\n",
       "      <td>84.575368</td>\n",
       "      <td>9</td>\n",
       "    </tr>\n",
       "    <tr>\n",
       "      <th>9133</th>\n",
       "      <td>3</td>\n",
       "      <td>28</td>\n",
       "      <td>23</td>\n",
       "      <td>88.263408</td>\n",
       "      <td>9</td>\n",
       "    </tr>\n",
       "    <tr>\n",
       "      <th>9134</th>\n",
       "      <td>3</td>\n",
       "      <td>27</td>\n",
       "      <td>23</td>\n",
       "      <td>85.328433</td>\n",
       "      <td>9</td>\n",
       "    </tr>\n",
       "  </tbody>\n",
       "</table>\n",
       "<p>9135 rows × 5 columns</p>\n",
       "</div>"
      ],
      "text/plain": [
       "      District  Temperature in deg  Dew Point in Deg  Heat Index  month\n",
       "0            0                  38                -2   94.806511      4\n",
       "1            0                  40                 3   98.663572      4\n",
       "2            0                  41                 9  102.464666      4\n",
       "3            0                  41                 9  102.464666      4\n",
       "4            0                  37                11   96.010559      4\n",
       "...        ...                 ...               ...         ...    ...\n",
       "9130         3                  25                23   78.243877      9\n",
       "9131         3                  26                22   81.705717      9\n",
       "9132         3                  27                22   84.575368      9\n",
       "9133         3                  28                23   88.263408      9\n",
       "9134         3                  27                23   85.328433      9\n",
       "\n",
       "[9135 rows x 5 columns]"
      ]
     },
     "execution_count": 10,
     "metadata": {},
     "output_type": "execute_result"
    }
   ],
   "source": [
    "data"
   ]
  },
  {
   "cell_type": "code",
   "execution_count": 25,
   "id": "02225190",
   "metadata": {},
   "outputs": [],
   "source": [
    "from sklearn.model_selection import train_test_split\n",
    "from sklearn.metrics import r2_score,mean_squared_error,mean_absolute_error"
   ]
  },
  {
   "cell_type": "code",
   "execution_count": 12,
   "id": "5181361f",
   "metadata": {},
   "outputs": [],
   "source": [
    "X=data.drop(['Heat Index'],axis=1)"
   ]
  },
  {
   "cell_type": "code",
   "execution_count": 13,
   "id": "2d0b809a",
   "metadata": {},
   "outputs": [],
   "source": [
    "Y=data.loc[:,['Heat Index']]"
   ]
  },
  {
   "cell_type": "code",
   "execution_count": 14,
   "id": "e551193e",
   "metadata": {},
   "outputs": [],
   "source": [
    "x_train,x_test,y_train,y_test=train_test_split(X,Y,random_state=42,test_size=0.20)"
   ]
  },
  {
   "cell_type": "code",
   "execution_count": 16,
   "id": "09b53156",
   "metadata": {},
   "outputs": [],
   "source": [
    "RFR=RandomForestRegressor()"
   ]
  },
  {
   "cell_type": "code",
   "execution_count": 17,
   "id": "3466fc5c",
   "metadata": {},
   "outputs": [
    {
     "name": "stderr",
     "output_type": "stream",
     "text": [
      "C:\\Users\\Lenovo\\AppData\\Local\\Temp\\ipykernel_364\\1229064473.py:1: DataConversionWarning: A column-vector y was passed when a 1d array was expected. Please change the shape of y to (n_samples,), for example using ravel().\n",
      "  RFR.fit(x_train,y_train)\n"
     ]
    },
    {
     "data": {
      "text/plain": [
       "RandomForestRegressor()"
      ]
     },
     "execution_count": 17,
     "metadata": {},
     "output_type": "execute_result"
    }
   ],
   "source": [
    "RFR.fit(x_train,y_train)"
   ]
  },
  {
   "cell_type": "code",
   "execution_count": 18,
   "id": "4617ff74",
   "metadata": {},
   "outputs": [],
   "source": [
    "y_pred=RFR.predict(x_test)"
   ]
  },
  {
   "cell_type": "code",
   "execution_count": 19,
   "id": "29462b50",
   "metadata": {},
   "outputs": [
    {
     "data": {
      "text/plain": [
       "array([ 78.4105968 ,  96.28055528,  91.94044657, ...,  91.33928046,\n",
       "       102.0457922 ,  81.74712988])"
      ]
     },
     "execution_count": 19,
     "metadata": {},
     "output_type": "execute_result"
    }
   ],
   "source": [
    "y_pred"
   ]
  },
  {
   "cell_type": "code",
   "execution_count": 20,
   "id": "2caa71bf",
   "metadata": {},
   "outputs": [
    {
     "data": {
      "text/plain": [
       "array([[ 78.4105968 ],\n",
       "       [ 96.32055453],\n",
       "       [ 91.94044657],\n",
       "       ...,\n",
       "       [ 91.41021771],\n",
       "       [102.0457922 ],\n",
       "       [ 81.74712988]])"
      ]
     },
     "execution_count": 20,
     "metadata": {},
     "output_type": "execute_result"
    }
   ],
   "source": [
    "y_test.values"
   ]
  },
  {
   "cell_type": "code",
   "execution_count": 24,
   "id": "58b2d0cd",
   "metadata": {},
   "outputs": [
    {
     "name": "stdout",
     "output_type": "stream",
     "text": [
      "R2 Score:- 99.98421172503133\n"
     ]
    }
   ],
   "source": [
    "print(\"R2 Score:-\",r2_score(y_test,y_pred)*100)"
   ]
  },
  {
   "cell_type": "code",
   "execution_count": 26,
   "id": "d0c70a15",
   "metadata": {},
   "outputs": [
    {
     "name": "stdout",
     "output_type": "stream",
     "text": [
      "mean_absolute_error:- 0.014042312087872436\n"
     ]
    }
   ],
   "source": [
    "print(\"mean_absolute_error:-\",mean_absolute_error(y_test,y_pred))"
   ]
  },
  {
   "cell_type": "code",
   "execution_count": 27,
   "id": "facd7e94",
   "metadata": {},
   "outputs": [
    {
     "name": "stdout",
     "output_type": "stream",
     "text": [
      "mean_squared_error:- 0.011536662377537968\n"
     ]
    }
   ],
   "source": [
    "print(\"mean_squared_error:-\",mean_squared_error(y_test,y_pred))"
   ]
  },
  {
   "cell_type": "code",
   "execution_count": 31,
   "id": "da7b5d3f",
   "metadata": {},
   "outputs": [
    {
     "name": "stderr",
     "output_type": "stream",
     "text": [
      "C:\\Users\\Lenovo\\anaconda3\\lib\\site-packages\\sklearn\\base.py:450: UserWarning: X does not have valid feature names, but RandomForestRegressor was fitted with feature names\n",
      "  warnings.warn(\n"
     ]
    },
    {
     "data": {
      "text/plain": [
       "array([110.08968902])"
      ]
     },
     "execution_count": 31,
     "metadata": {},
     "output_type": "execute_result"
    }
   ],
   "source": [
    "RFR.predict([[0,43,15,4]])"
   ]
  },
  {
   "cell_type": "code",
   "execution_count": 32,
   "id": "a7566fe7",
   "metadata": {},
   "outputs": [
    {
     "name": "stderr",
     "output_type": "stream",
     "text": [
      "C:\\Users\\Lenovo\\anaconda3\\lib\\site-packages\\sklearn\\base.py:450: UserWarning: X does not have valid feature names, but RandomForestRegressor was fitted with feature names\n",
      "  warnings.warn(\n"
     ]
    },
    {
     "data": {
      "text/plain": [
       "array([96.51889783])"
      ]
     },
     "execution_count": 32,
     "metadata": {},
     "output_type": "execute_result"
    }
   ],
   "source": [
    "RFR.predict([[0,36,15,4]])"
   ]
  },
  {
   "cell_type": "code",
   "execution_count": 33,
   "id": "403ae3b1",
   "metadata": {},
   "outputs": [
    {
     "name": "stderr",
     "output_type": "stream",
     "text": [
      "C:\\Users\\Lenovo\\anaconda3\\lib\\site-packages\\sklearn\\base.py:450: UserWarning: X does not have valid feature names, but RandomForestRegressor was fitted with feature names\n",
      "  warnings.warn(\n"
     ]
    },
    {
     "data": {
      "text/plain": [
       "array([88.82085483])"
      ]
     },
     "execution_count": 33,
     "metadata": {},
     "output_type": "execute_result"
    }
   ],
   "source": [
    "RFR.predict([[0,32,15,4]])"
   ]
  },
  {
   "cell_type": "code",
   "execution_count": 53,
   "id": "42f9d029",
   "metadata": {},
   "outputs": [
    {
     "name": "stderr",
     "output_type": "stream",
     "text": [
      "C:\\Users\\Lenovo\\anaconda3\\lib\\site-packages\\sklearn\\base.py:450: UserWarning: X does not have valid feature names, but RandomForestRegressor was fitted with feature names\n",
      "  warnings.warn(\n"
     ]
    },
    {
     "data": {
      "text/plain": [
       "array([110.62281429])"
      ]
     },
     "execution_count": 53,
     "metadata": {},
     "output_type": "execute_result"
    }
   ],
   "source": [
    "RFR.predict([[0,70,20,4]])"
   ]
  },
  {
   "cell_type": "code",
   "execution_count": 29,
   "id": "37ce8cb1",
   "metadata": {},
   "outputs": [],
   "source": [
    "pkl.dump(RFR,open('model.pkl', 'wb'))"
   ]
  }
 ],
 "metadata": {
  "kernelspec": {
   "display_name": "Python 3 (ipykernel)",
   "language": "python",
   "name": "python3"
  },
  "language_info": {
   "codemirror_mode": {
    "name": "ipython",
    "version": 3
   },
   "file_extension": ".py",
   "mimetype": "text/x-python",
   "name": "python",
   "nbconvert_exporter": "python",
   "pygments_lexer": "ipython3",
   "version": "3.9.12"
  }
 },
 "nbformat": 4,
 "nbformat_minor": 5
}
